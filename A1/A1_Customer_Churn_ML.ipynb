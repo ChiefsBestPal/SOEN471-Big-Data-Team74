{
 "cells": [
  {
   "cell_type": "markdown",
   "metadata": {},
   "source": [
    "# StreamFlex customer churn predictions using Decision Trees and Random Forests\n",
    "\n",
    "- **Demographics**: Age, Location, Subscription Length\n",
    "- **Usage Behavior**: Watch Time, Number of Logins, Preferred Content Type\n",
    "- **Subscription Details**: Membership Type (Basic, Standard, Premium), Payment Method, Payment Issues\n",
    "- **Customer Support Interactions**: Number of Complaints, Resolution Time\n",
    "\n",
    "Analyze and model customer churn using Decision Trees and Random Forests\n",
    "and evaluate model performance using appropriate classification metrics."
   ]
  },
  {
   "cell_type": "markdown",
   "metadata": {},
   "source": [
    "## Dataset columns\n",
    "```CustomerID,Age,Subscription_Length_Months,Watch_Time_Hours,Number_of_Logins,Preferred_Content_Type,Membership_Type,Payment_Method,Payment_Issues,Number_of_Complaints,Resolution_Time_Days,Churn```\n"
   ]
  },
  {
   "cell_type": "markdown",
   "metadata": {},
   "source": [
    "## Section 1: Application of Decision Trees in Business"
   ]
  },
  {
   "cell_type": "markdown",
   "metadata": {},
   "source": [
    "```\n",
    "Why are decision trees useful in customer churn prediction?\n",
    "\n",
    "    Interpretability – Decision trees provide a clear, visual representation of how different factors contribute to customer churn.\n",
    "    Handling Non-Linearity – They can capture complex relationships between variables without assuming a linear relationship.\n",
    "    Feature Importance – Decision trees highlight the most influential factors driving customer churn.\n",
    "    Handling Missing Data – Unlike some models, decision trees can work well with incomplete data.\n",
    "    Decision-Making Support – They offer actionable insights, helping businesses prioritize interventions.\n",
    "\n",
    "What business actions can be taken based on decision tree predictions?\n",
    "\n",
    "    Targeted Retention Campaigns: If high \"Resolution_Time_Days\" correlates with churn, customer support efficiency should improve.\n",
    "    Personalized Offers: If \"Subscription_Length_Months\" impacts churn, offering discounts for longer commitments may help.\n",
    "    Content Strategy Adjustments: If \"Preferred_Content_Type\" affects churn, optimize content offerings accordingly.\n",
    "    Billing Optimization: If \"Payment_Issues\" are a key factor, smoother billing processes or alternative payment methods should be implemented.\n",
    "```"
   ]
  },
  {
   "cell_type": "markdown",
   "metadata": {},
   "source": [
    "## Section 2: Python Impl - Building the model"
   ]
  },
  {
   "cell_type": "markdown",
   "metadata": {},
   "source": [
    "### Task 1: Data Preparation and Exploration"
   ]
  },
  {
   "cell_type": "code",
   "execution_count": null,
   "metadata": {},
   "outputs": [],
   "source": [
    "import pandas as pd\n",
    "import numpy as np\n",
    "import matplotlib.pyplot as plt\n",
    "import seaborn as sns\n",
    "from sklearn.model_selection import train_test_split\n",
    "from sklearn.preprocessing import LabelEncoder\n",
    "\n",
    "# Load dataset\n",
    "df = pd.read_csv(\"customer_churn.csv\")\n",
    "\n",
    "# Basic info\n",
    "print(df.info())\n",
    "print(df.describe())\n",
    "\n",
    "# Check for missing values\n",
    "print(df.isnull().sum())\n",
    "\n",
    "# Handling missing values (e.g., filling with median/mode)\n",
    "df.fillna(df.median(numeric_only=True), inplace=True)\n",
    "df.fillna(df.mode().iloc[0], inplace=True)\n",
    "\n",
    "# Convert categorical variables to numerical using Label Encoding\n",
    "label_encoders = {}\n",
    "categorical_cols = [\"Preferred_Content_Type\", \"Membership_Type\", \"Payment_Method\"]\n",
    "\n",
    "# Encoding of categorical features and labels to have them mathematically usable in linear/matrix/etc.. system\n",
    "for col in categorical_cols:\n",
    "    le = LabelEncoder()\n",
    "    df[col] = le.fit_transform(df[col])\n",
    "    label_encoders[col] = le\n",
    "\n",
    "# Correlation heatmap\n",
    "plt.figure(figsize=(10, 6))\n",
    "sns.heatmap(df.corr(), annot=True, cmap=\"coolwarm\")\n",
    "plt.title(\"Feature Correlation Heatmap\")\n",
    "plt.show()\n",
    "\n",
    "# Visualizing churn distribution\n",
    "sns.countplot(x=\"Churn\", data=df)\n",
    "plt.title(\"Churn Distribution\")\n",
    "plt.show()\n"
   ]
  },
  {
   "cell_type": "markdown",
   "metadata": {},
   "source": [
    "### Task 2 Building a Decision Tree classifier"
   ]
  },
  {
   "cell_type": "code",
   "execution_count": null,
   "metadata": {},
   "outputs": [],
   "source": [
    "from sklearn.tree import DecisionTreeClassifier, plot_tree\n",
    "from sklearn.metrics import accuracy_score, precision_score, recall_score, f1_score, confusion_matrix\n",
    "from sklearn.model_selection import GridSearchCV\n",
    "\n",
    "# Splitting data\n",
    "X = df.drop(columns=[\"CustomerID\", \"Churn\"])\n",
    "y = df[\"Churn\"]\n",
    "\n",
    "X_train, X_test, y_train, y_test = train_test_split(X, y, test_size=0.2, random_state=42)\n",
    "\n",
    "# Decision Tree model\n",
    "dt = DecisionTreeClassifier(random_state=42)\n",
    "params = {\"max_depth\": [3, 5, 10], \"min_samples_split\": [2, 5, 10]}\n",
    "\n",
    "# Grid Search for hyperparameter tuning \n",
    "grid_search = GridSearchCV(dt, param_grid=params, cv=5, scoring=\"accuracy\")\n",
    "grid_search.fit(X_train, y_train)\n",
    "\n",
    "# Best model. Fwd training to get model estimation and bwd training/loss gradient to update weights\n",
    "best_dt = grid_search.best_estimator_\n",
    "\n",
    "# Predictions, loss func threshold classification\n",
    "y_pred = best_dt.predict(X_test)\n",
    "\n",
    "# Evaluation metrics\n",
    "print(\"Accuracy:\", accuracy_score(y_test, y_pred))\n",
    "print(\"Precision:\", precision_score(y_test, y_pred))\n",
    "print(\"Recall:\", recall_score(y_test, y_pred))\n",
    "print(\"F1 Score:\", f1_score(y_test, y_pred))\n",
    "print(\"Confusion Matrix:\\n\", confusion_matrix(y_test, y_pred))\n",
    "\n",
    "# Visualizing decision tree ... basically decision probability tree look. (here binary classification)\n",
    "plt.figure(figsize=(15, 8))\n",
    "plot_tree(best_dt, feature_names=X.columns, class_names=[\"No Churn\", \"Churn\"], filled=True)\n",
    "plt.show()\n"
   ]
  },
  {
   "cell_type": "markdown",
   "metadata": {},
   "source": [
    "### Task 3 Improving Performance,overfitting,etc.... with Random Forests"
   ]
  },
  {
   "cell_type": "code",
   "execution_count": null,
   "metadata": {},
   "outputs": [],
   "source": [
    "from sklearn.ensemble import RandomForestClassifier\n",
    "\n",
    "# Train Random Forest\n",
    "rf = RandomForestClassifier(n_estimators=100, random_state=42)\n",
    "rf.fit(X_train, y_train)\n",
    "\n",
    "# Predictions\n",
    "y_pred_rf = rf.predict(X_test)\n",
    "\n",
    "# Evaluate Random Forest\n",
    "print(\"Random Forest Accuracy:\", accuracy_score(y_test, y_pred_rf))\n",
    "print(\"Random Forest Precision:\", precision_score(y_test, y_pred_rf))\n",
    "print(\"Random Forest Recall:\", recall_score(y_test, y_pred_rf))\n",
    "print(\"Random Forest F1 Score:\", f1_score(y_test, y_pred_rf))\n",
    "print(\"Random Forest Confusion Matrix:\\n\", confusion_matrix(y_test, y_pred_rf))\n",
    "\n",
    "# Feature importance\n",
    "feature_importances = pd.Series(rf.feature_importances_, index=X.columns)\n",
    "feature_importances.nlargest(10).plot(kind=\"barh\")\n",
    "plt.title(\"Feature Importances in Random Forest\")\n",
    "plt.show()\n"
   ]
  },
  {
   "cell_type": "markdown",
   "metadata": {},
   "source": [
    "### Task 4 Business Insight and Recommendations"
   ]
  },
  {
   "cell_type": "markdown",
   "metadata": {},
   "source": [
    "```\n",
    "Key Factors Contributing to Customer Churn\n",
    "\n",
    "    Resolution Time: If delays in issue resolution lead to churn, improving customer service response times is critical.\n",
    "    Subscription Length: Shorter subscriptions may correlate with higher churn rates, suggesting incentives for long-term plans.\n",
    "    Payment Issues: Frequent payment failures increase churn risk, necessitating a smoother payment experience.\n",
    "    Watch Time & Logins: Low engagement could indicate dissatisfaction; personalized recommendations may improve retention.\n",
    "\n",
    "Three Concrete Business Strategies\n",
    "\n",
    "    Loyalty & Subscription Incentives\n",
    "        Offer discounts on annual plans to increase retention.\n",
    "        Implement a rewards system for continued engagement.\n",
    "\n",
    "    Customer Support Optimization\n",
    "        Reduce issue resolution time through AI chatbots or 24/7 support.\n",
    "        Provide self-service options to resolve common issues.\n",
    "\n",
    "    Personalized Content & Engagement\n",
    "        Use AI-driven recommendations to improve watch time.\n",
    "        Send targeted notifications for user-preferred content.\n",
    "```"
   ]
  }
 ],
 "metadata": {
  "kernelspec": {
   "display_name": "inrs_mlenv",
   "language": "python",
   "name": "python3"
  },
  "language_info": {
   "name": "python",
   "version": "3.10.14"
  }
 },
 "nbformat": 4,
 "nbformat_minor": 2
}
